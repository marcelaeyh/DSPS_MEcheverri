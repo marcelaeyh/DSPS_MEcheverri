{
  "nbformat": 4,
  "nbformat_minor": 0,
  "metadata": {
    "colab": {
      "provenance": [],
      "authorship_tag": "ABX9TyMlw/uQDrRzoyCSkXStBU1v",
      "include_colab_link": true
    },
    "kernelspec": {
      "name": "python3",
      "display_name": "Python 3"
    },
    "language_info": {
      "name": "python"
    }
  },
  "cells": [
    {
      "cell_type": "markdown",
      "metadata": {
        "id": "view-in-github",
        "colab_type": "text"
      },
      "source": [
        "<a href=\"https://colab.research.google.com/github/marcelaeyh/DSPS_MEcheverri/blob/main/Labs/Triptimes.ipynb\" target=\"_parent\"><img src=\"https://colab.research.google.com/assets/colab-badge.svg\" alt=\"Open In Colab\"/></a>"
      ]
    },
    {
      "cell_type": "code",
      "execution_count": 12,
      "metadata": {
        "id": "DdEvyzMBiUND"
      },
      "outputs": [],
      "source": [
        "import pandas as pd\n",
        "import numpy as np"
      ]
    },
    {
      "cell_type": "code",
      "source": [
        "triptimes = pd.read_csv('https://raw.githubusercontent.com/fedhere/DSPS_FBianco/refs/heads/main/data/triptimes.csv',header=None)\n",
        "triptimes.columns = ['time']\n",
        "triptimes.hist()"
      ],
      "metadata": {
        "colab": {
          "base_uri": "https://localhost:8080/",
          "height": 470
        },
        "id": "UF__I05-ieb5",
        "outputId": "cb3ef585-1c5a-4f56-f871-3e6483c74d91"
      },
      "execution_count": 21,
      "outputs": [
        {
          "output_type": "execute_result",
          "data": {
            "text/plain": [
              "array([[<Axes: title={'center': 'time'}>]], dtype=object)"
            ]
          },
          "metadata": {},
          "execution_count": 21
        },
        {
          "output_type": "display_data",
          "data": {
            "text/plain": [
              "<Figure size 640x480 with 1 Axes>"
            ],
            "image/png": "[encoded data removed]"
          },
          "metadata": {}
        }
      ]
    },
    {
      "cell_type": "markdown",
      "source": [
        "In this exercise you are a city planner. Bus 302 follows the same route for many decades and you know the average trip duration is 32 minutes and 20 seconds.\n",
        "\n",
        "**My Null hypothesis is that the average trip duration is 32 minutes and 20 seconds.**\n",
        "\n",
        "Now the duration of the trips on the new route are measured for the first N trips and you want to know if there is at a 95% confidence\n",
        "\n",
        "**I'm trying to use Z-test to determine if there is 95% of confidence**\n",
        "\n",
        "$$Z = (\\bar{X}-\\mu_0)/s$$"
      ],
      "metadata": {
        "id": "F3WYCX7TjNly"
      }
    },
    {
      "cell_type": "code",
      "source": [
        "s = triptimes.time.std()/np.sqrt(len(triptimes.time))\n",
        "Z = (triptimes.time.mean() - 32.33)/s\n",
        "Z"
      ],
      "metadata": {
        "colab": {
          "base_uri": "https://localhost:8080/"
        },
        "id": "1FEB2VY9igv_",
        "outputId": "7ec96c7b-c58d-4e96-8c87-f4dd1e6ab7a3"
      },
      "execution_count": 29,
      "outputs": [
        {
          "output_type": "execute_result",
          "data": {
            "text/plain": [
              "np.float64(2.9929632132528834)"
            ]
          },
          "metadata": {},
          "execution_count": 29
        }
      ]
    },
    {
      "cell_type": "markdown",
      "source": [
        "The null hypothesis is rejected because it is a low probability ($\\sim 3$%) of the new average time to happen."
      ],
      "metadata": {
        "id": "KudL_YLslI9Y"
      }
    },
    {
      "cell_type": "code",
      "source": [
        "2*triptimes.time.std()"
      ],
      "metadata": {
        "colab": {
          "base_uri": "https://localhost:8080/"
        },
        "id": "ancyJzGsjImJ",
        "outputId": "e7b76e96-b5e6-49f8-d215-d32e8f0e9a10"
      },
      "execution_count": 32,
      "outputs": [
        {
          "output_type": "execute_result",
          "data": {
            "text/plain": [
              "14.274560267503759"
            ]
          },
          "metadata": {},
          "execution_count": 32
        }
      ]
    },
    {
      "cell_type": "code",
      "source": [],
      "metadata": {
        "id": "to6R7ZwxkUKx"
      },
      "execution_count": null,
      "outputs": []
    }
  ]
}